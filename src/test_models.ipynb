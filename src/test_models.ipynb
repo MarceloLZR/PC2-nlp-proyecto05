{
 "cells": [
  {
   "cell_type": "code",
   "execution_count": 2,
   "id": "7ac8e7e5-5bcd-4d1d-a71a-0da2658cc7e2",
   "metadata": {},
   "outputs": [
    {
     "name": "stdout",
     "output_type": "stream",
     "text": [
      "Texto: I love this movie, it was excellent!\n",
      "→ Predicción: Positivo\n",
      "\n",
      "Texto: This is the worst experience I’ve ever had.\n",
      "→ Predicción: Positivo\n",
      "\n",
      "Texto: The book was good, but not amazing.\n",
      "→ Predicción: Positivo\n",
      "\n",
      "Texto: I hate the food, it made me sick.\n",
      "→ Predicción: Positivo\n",
      "\n",
      "Texto: What a great day!\n",
      "→ Predicción: Positivo\n",
      "\n"
     ]
    }
   ],
   "source": [
    "import torch\n",
    "from transformers import BertTokenizerFast, BertForSequenceClassification\n",
    "import os\n",
    "\n",
    "# Cambia a uno de estos según el modelo a probar:\n",
    "MODEL_DIR = \"models/bert_finetuned_full\"\n",
    "# MODEL_DIR = \"models/bert_finetuned_lora\"\n",
    "\n",
    "# 🔹 Cargar modelo y tokenizer\n",
    "tokenizer = BertTokenizerFast.from_pretrained(MODEL_DIR)\n",
    "model = BertForSequenceClassification.from_pretrained(MODEL_DIR)\n",
    "model.eval()\n",
    "\n",
    "# 🔹 Ejemplos de prueba\n",
    "ejemplos = [\n",
    "    \"I love this movie, it was excellent!\",\n",
    "    \"This is the worst experience I’ve ever had.\",\n",
    "    \"The book was good, but not amazing.\",\n",
    "    \"I hate the food, it made me sick.\",\n",
    "    \"What a great day!\"\n",
    "]\n",
    "\n",
    "# 🔹 Inferencia\n",
    "for texto in ejemplos:\n",
    "    inputs = tokenizer(texto, return_tensors=\"pt\", truncation=True, padding=True)\n",
    "    with torch.no_grad():\n",
    "        outputs = model(**inputs)\n",
    "    pred = torch.argmax(outputs.logits, dim=1).item()\n",
    "    label = \"Positivo\" if pred == 1 else \"Negativo\"\n",
    "    print(f\"Texto: {texto}\\n→ Predicción: {label}\\n\")\n"
   ]
  },
  {
   "cell_type": "code",
   "execution_count": 7,
   "id": "796871e4-7759-42ef-9491-f9515a3c18d9",
   "metadata": {},
   "outputs": [
    {
     "name": "stderr",
     "output_type": "stream",
     "text": [
      "Some weights of BertForSequenceClassification were not initialized from the model checkpoint at models/bert_pretrained and are newly initialized: ['bert.pooler.dense.bias', 'bert.pooler.dense.weight', 'classifier.bias', 'classifier.weight']\n",
      "You should probably TRAIN this model on a down-stream task to be able to use it for predictions and inference.\n"
     ]
    },
    {
     "name": "stdout",
     "output_type": "stream",
     "text": [
      "Texto: I love this movie, it was excellent!\n",
      "→ Predicción: Negativo\n",
      "\n",
      "Texto: This is the worst experience I’ve ever had.\n",
      "→ Predicción: Negativo\n",
      "\n",
      "Texto: The book was good, but not amazing.\n",
      "→ Predicción: Negativo\n",
      "\n",
      "Texto: I hate the food, it made me sick.\n",
      "→ Predicción: Negativo\n",
      "\n",
      "Texto: What a bad day!\n",
      "→ Predicción: Negativo\n",
      "\n"
     ]
    }
   ],
   "source": [
    "import torch\n",
    "from transformers import BertTokenizerFast, BertForSequenceClassification\n",
    "import os\n",
    "\n",
    "# Cambia a uno de estos según el modelo a probar:\n",
    "MODEL_DIR = \"models/bert_finetuned_lora\"\n",
    "# MODEL_DIR = \"models/bert_finetuned_lora\"\n",
    "\n",
    "# 🔹 Cargar modelo y tokenizer\n",
    "tokenizer = BertTokenizerFast.from_pretrained(MODEL_DIR)\n",
    "model = BertForSequenceClassification.from_pretrained(MODEL_DIR)\n",
    "model.eval()\n",
    "\n",
    "# 🔹 Ejemplos de prueba\n",
    "ejemplos = [\n",
    "    \"I love this movie, it was excellent!\",\n",
    "    \"This is the worst experience I’ve ever had.\",\n",
    "    \"The book was good, but not amazing.\",\n",
    "    \"I hate the food, it made me sick.\",\n",
    "    \"What a bad day!\"\n",
    "]\n",
    "\n",
    "# 🔹 Inferencia\n",
    "for texto in ejemplos:\n",
    "    inputs = tokenizer(texto, return_tensors=\"pt\", truncation=True, padding=True)\n",
    "    with torch.no_grad():\n",
    "        outputs = model(**inputs)\n",
    "    pred = torch.argmax(outputs.logits, dim=1).item()\n",
    "    label = \"Positivo\" if pred == 1 else \"Negativo\"\n",
    "    print(f\"Texto: {texto}\\n→ Predicción: {label}\\n\")\n"
   ]
  },
  {
   "cell_type": "code",
   "execution_count": null,
   "id": "a03f004b-10d8-4650-a7b5-76ed6bff55b3",
   "metadata": {},
   "outputs": [],
   "source": []
  },
  {
   "cell_type": "code",
   "execution_count": null,
   "id": "48fe0f91-f108-4133-b253-5ff9cdeb3ee5",
   "metadata": {},
   "outputs": [],
   "source": []
  }
 ],
 "metadata": {
  "kernelspec": {
   "display_name": "Python 3 (ipykernel)",
   "language": "python",
   "name": "python3"
  },
  "language_info": {
   "codemirror_mode": {
    "name": "ipython",
    "version": 3
   },
   "file_extension": ".py",
   "mimetype": "text/x-python",
   "name": "python",
   "nbconvert_exporter": "python",
   "pygments_lexer": "ipython3",
   "version": "3.9.13"
  }
 },
 "nbformat": 4,
 "nbformat_minor": 5
}
