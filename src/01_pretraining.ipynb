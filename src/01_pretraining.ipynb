{
 "cells": [
  {
   "cell_type": "code",
   "execution_count": null,
   "id": "b06d93d9-e211-4b89-8512-23688ab88e86",
   "metadata": {},
   "outputs": [
    {
     "name": "stdout",
     "output_type": "stream",
     "text": [
      "Cargando corpus...\n",
      "Tokenizando...\n"
     ]
    },
    {
     "name": "stderr",
     "output_type": "stream",
     "text": [
      "Some weights of the model checkpoint at bert-base-uncased were not used when initializing BertForMaskedLM: ['bert.pooler.dense.bias', 'bert.pooler.dense.weight', 'cls.seq_relationship.bias', 'cls.seq_relationship.weight']\n",
      "- This IS expected if you are initializing BertForMaskedLM from the checkpoint of a model trained on another task or with another architecture (e.g. initializing a BertForSequenceClassification model from a BertForPreTraining model).\n",
      "- This IS NOT expected if you are initializing BertForMaskedLM from the checkpoint of a model that you expect to be exactly identical (initializing a BertForSequenceClassification model from a BertForSequenceClassification model).\n"
     ]
    },
    {
     "name": "stdout",
     "output_type": "stream",
     "text": [
      "Entrenando modelo...\n"
     ]
    },
    {
     "data": {
      "text/html": [
       "\n",
       "    <div>\n",
       "      \n",
       "      <progress value='83' max='257' style='width:300px; height:20px; vertical-align: middle;'></progress>\n",
       "      [ 83/257 04:28 < 09:35, 0.30 it/s, Epoch 0.32/1]\n",
       "    </div>\n",
       "    <table border=\"1\" class=\"dataframe\">\n",
       "  <thead>\n",
       " <tr style=\"text-align: left;\">\n",
       "      <th>Step</th>\n",
       "      <th>Training Loss</th>\n",
       "    </tr>\n",
       "  </thead>\n",
       "  <tbody>\n",
       "  </tbody>\n",
       "</table><p>"
      ],
      "text/plain": [
       "<IPython.core.display.HTML object>"
      ]
     },
     "metadata": {},
     "output_type": "display_data"
    }
   ],
   "source": [
    "# src/pretrain.py\n",
    "\n",
    "\"\"\"\n",
    "Preentrenamiento de un modelo BERT pequeño usando solo MLM.\n",
    "Corpus: Wikipedia simplificada (subconjunto 1%).\n",
    "\"\"\"\n",
    "\n",
    "import os\n",
    "from datasets import load_dataset\n",
    "from transformers import (\n",
    "    BertTokenizerFast,\n",
    "    BertForMaskedLM,\n",
    "    DataCollatorForLanguageModeling,\n",
    "    Trainer,\n",
    "    TrainingArguments,\n",
    ")\n",
    "from sklearn.metrics import accuracy_score\n",
    "import torch\n",
    "\n",
    "#  Directorios\n",
    "MODEL_NAME = \"bert-base-uncased\"\n",
    "SAVE_DIR = \"models/bert_pretrained\"\n",
    "LOG_DIR = \"logs/pretraining\"\n",
    "os.makedirs(SAVE_DIR, exist_ok=True)\n",
    "os.makedirs(LOG_DIR, exist_ok=True)\n",
    "\n",
    "# ⚙️ Hiperparámetros\n",
    "BATCH_SIZE = 8\n",
    "EPOCHS = 1\n",
    "\n",
    "#  Cargar dataset (Wikipedia simple, 1%)\n",
    "print(\"Cargando corpus...\")\n",
    "dataset = load_dataset(\"wikipedia\", \"20220301.simple\", split='train[:1%]')\n",
    "\n",
    "#  Tokenización\n",
    "print(\"Tokenizando...\")\n",
    "tokenizer = BertTokenizerFast.from_pretrained(MODEL_NAME)\n",
    "\n",
    "def tokenize_function(example):\n",
    "    return tokenizer(example[\"text\"], truncation=True, max_length=128)\n",
    "\n",
    "tokenized_dataset = dataset.map(tokenize_function, batched=True, remove_columns=[\"title\", \"text\"])\n",
    "\n",
    "#  Collator para MLM\n",
    "collator = DataCollatorForLanguageModeling(\n",
    "    tokenizer=tokenizer,\n",
    "    mlm=True,\n",
    "    mlm_probability=0.15\n",
    ")\n",
    "\n",
    "#  Modelo BERT para MLM\n",
    "model = BertForMaskedLM.from_pretrained(MODEL_NAME)\n",
    "\n",
    "# ⚙️ Entrenamiento\n",
    "training_args = TrainingArguments(\n",
    "    output_dir=SAVE_DIR,\n",
    "    overwrite_output_dir=True,\n",
    "    num_train_epochs=EPOCHS,\n",
    "    per_device_train_batch_size=BATCH_SIZE,\n",
    "    save_steps=500,\n",
    "    save_total_limit=2,\n",
    "    logging_steps=100,\n",
    "    logging_dir=LOG_DIR,\n",
    "    report_to=\"none\"\n",
    ")\n",
    "\n",
    "def compute_metrics(eval_pred):\n",
    "    logits, labels = eval_pred\n",
    "    predictions = logits.argmax(axis=-1)\n",
    "    acc = accuracy_score(labels.flatten(), predictions.flatten())\n",
    "    return {\"accuracy\": acc}\n",
    "\n",
    "trainer = Trainer(\n",
    "    model=model,\n",
    "    args=training_args,\n",
    "    train_dataset=tokenized_dataset,\n",
    "    data_collator=collator,\n",
    "    compute_metrics=compute_metrics\n",
    ")\n",
    "\n",
    "#  Entrenar\n",
    "print(\"Entrenando modelo...\")\n",
    "trainer.train()\n",
    "\n",
    "\n",
    "#  Guardar modelo y tokenizer\n",
    "print(f\"Guardando modelo en {SAVE_DIR}\")\n",
    "model.save_pretrained(SAVE_DIR)\n",
    "tokenizer.save_pretrained(SAVE_DIR)\n"
   ]
  },
  {
   "cell_type": "code",
   "execution_count": 2,
   "id": "8f249c65-7fa9-4914-9673-5c124fa72383",
   "metadata": {},
   "outputs": [
    {
     "name": "stdout",
     "output_type": "stream",
     "text": [
      "the capital of france is paris. (score: 0.4868)\n",
      "the capital of france is lyon. (score: 0.0632)\n",
      "the capital of france is tours. (score: 0.0422)\n",
      "the capital of france is nice. (score: 0.0361)\n",
      "the capital of france is toulouse. (score: 0.0344)\n"
     ]
    }
   ],
   "source": [
    "from transformers import pipeline\n",
    "\n",
    "# Cargar pipeline con tu modelo preentrenado\n",
    "fill_mask = pipeline(\n",
    "    \"fill-mask\",\n",
    "    model=\"models/bert_pretrained\",\n",
    "    tokenizer=\"models/bert_pretrained\"\n",
    ")\n",
    "\n",
    "# Probar con una oración con [MASK]\n",
    "resultados = fill_mask(\"The capital of France is [MASK].\")\n",
    "\n",
    "for r in resultados:\n",
    "    print(f\"{r['sequence']} (score: {r['score']:.4f})\")\n"
   ]
  }
 ],
 "metadata": {
  "kernelspec": {
   "display_name": "Python 3 (ipykernel)",
   "language": "python",
   "name": "python3"
  },
  "language_info": {
   "codemirror_mode": {
    "name": "ipython",
    "version": 3
   },
   "file_extension": ".py",
   "mimetype": "text/x-python",
   "name": "python",
   "nbconvert_exporter": "python",
   "pygments_lexer": "ipython3",
   "version": "3.9.13"
  }
 },
 "nbformat": 4,
 "nbformat_minor": 5
}
